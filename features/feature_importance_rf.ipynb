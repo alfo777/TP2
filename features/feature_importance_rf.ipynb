{
 "cells": [
  {
   "cell_type": "markdown",
   "metadata": {},
   "source": [
    "# Este notebook se lo usa para calcular la importancia de cada uno de los features segun el metodo de random forest:"
   ]
  },
  {
   "cell_type": "code",
   "execution_count": 2,
   "metadata": {},
   "outputs": [],
   "source": [
    "import pandas as pd\n",
    "import numpy as np\n",
    "import sklearn\n",
    "import matplotlib.pyplot as plt\n",
    "from sklearn.ensemble import RandomForestRegressor\n",
    "from sklearn.datasets import make_classification\n",
    "from sklearn.model_selection import GridSearchCV"
   ]
  },
  {
   "cell_type": "code",
   "execution_count": 3,
   "metadata": {},
   "outputs": [],
   "source": [
    "train = pd.read_csv('featuresTrain3.csv')\n",
    "test = pd.read_csv('featuresTest3.csv')"
   ]
  },
  {
   "cell_type": "code",
   "execution_count": 4,
   "metadata": {},
   "outputs": [],
   "source": [
    "X, y = train[train.columns.drop(['id','ciudad','provincia','precio'])], train['precio']"
   ]
  },
  {
   "cell_type": "code",
   "execution_count": 5,
   "metadata": {},
   "outputs": [],
   "source": [
    "forest_model = RandomForestRegressor(random_state=1)"
   ]
  },
  {
   "cell_type": "code",
   "execution_count": 6,
   "metadata": {},
   "outputs": [
    {
     "data": {
      "text/html": [
       "<div>\n",
       "<style scoped>\n",
       "    .dataframe tbody tr th:only-of-type {\n",
       "        vertical-align: middle;\n",
       "    }\n",
       "\n",
       "    .dataframe tbody tr th {\n",
       "        vertical-align: top;\n",
       "    }\n",
       "\n",
       "    .dataframe thead th {\n",
       "        text-align: right;\n",
       "    }\n",
       "</style>\n",
       "<table border=\"1\" class=\"dataframe\">\n",
       "  <thead>\n",
       "    <tr style=\"text-align: right;\">\n",
       "      <th></th>\n",
       "      <th>antiguedad</th>\n",
       "      <th>habitaciones</th>\n",
       "      <th>garages</th>\n",
       "      <th>banos</th>\n",
       "      <th>metroscubiertos</th>\n",
       "      <th>metrostotales</th>\n",
       "      <th>idzona</th>\n",
       "      <th>lat</th>\n",
       "      <th>lng</th>\n",
       "      <th>anio</th>\n",
       "      <th>...</th>\n",
       "      <th>peso_IDF_titulo</th>\n",
       "      <th>metrosdescubiertos</th>\n",
       "      <th>tipodepropiedad_cb</th>\n",
       "      <th>caracteristicas_cb</th>\n",
       "      <th>provincia_cb</th>\n",
       "      <th>piscina</th>\n",
       "      <th>gimnasio</th>\n",
       "      <th>usosmultiples</th>\n",
       "      <th>escuelascercanas</th>\n",
       "      <th>centroscomercialescercanos</th>\n",
       "    </tr>\n",
       "  </thead>\n",
       "  <tbody>\n",
       "    <tr>\n",
       "      <th>0</th>\n",
       "      <td>2.210044</td>\n",
       "      <td>2.0</td>\n",
       "      <td>1.0</td>\n",
       "      <td>2.0</td>\n",
       "      <td>4.394449</td>\n",
       "      <td>4.394449</td>\n",
       "      <td>23533.0</td>\n",
       "      <td>20.696818</td>\n",
       "      <td>-99.509221</td>\n",
       "      <td>2015.0</td>\n",
       "      <td>...</td>\n",
       "      <td>0.000000</td>\n",
       "      <td>0.000000</td>\n",
       "      <td>0.478679</td>\n",
       "      <td>0.390827</td>\n",
       "      <td>0.413880</td>\n",
       "      <td>0.0</td>\n",
       "      <td>0.0</td>\n",
       "      <td>0.0</td>\n",
       "      <td>0.0</td>\n",
       "      <td>0.0</td>\n",
       "    </tr>\n",
       "    <tr>\n",
       "      <th>1</th>\n",
       "      <td>2.397895</td>\n",
       "      <td>3.0</td>\n",
       "      <td>2.0</td>\n",
       "      <td>2.0</td>\n",
       "      <td>5.594711</td>\n",
       "      <td>5.198497</td>\n",
       "      <td>24514.0</td>\n",
       "      <td>19.310205</td>\n",
       "      <td>-99.227655</td>\n",
       "      <td>2013.0</td>\n",
       "      <td>...</td>\n",
       "      <td>0.165371</td>\n",
       "      <td>0.000000</td>\n",
       "      <td>0.386072</td>\n",
       "      <td>0.475439</td>\n",
       "      <td>0.413880</td>\n",
       "      <td>0.0</td>\n",
       "      <td>0.0</td>\n",
       "      <td>0.0</td>\n",
       "      <td>1.0</td>\n",
       "      <td>1.0</td>\n",
       "    </tr>\n",
       "    <tr>\n",
       "      <th>2</th>\n",
       "      <td>1.791759</td>\n",
       "      <td>3.0</td>\n",
       "      <td>2.0</td>\n",
       "      <td>2.0</td>\n",
       "      <td>4.976734</td>\n",
       "      <td>5.117994</td>\n",
       "      <td>48551.0</td>\n",
       "      <td>20.696818</td>\n",
       "      <td>-99.509221</td>\n",
       "      <td>2015.0</td>\n",
       "      <td>...</td>\n",
       "      <td>0.033601</td>\n",
       "      <td>3.135494</td>\n",
       "      <td>0.426561</td>\n",
       "      <td>0.390827</td>\n",
       "      <td>0.407525</td>\n",
       "      <td>0.0</td>\n",
       "      <td>0.0</td>\n",
       "      <td>0.0</td>\n",
       "      <td>0.0</td>\n",
       "      <td>0.0</td>\n",
       "    </tr>\n",
       "    <tr>\n",
       "      <th>3</th>\n",
       "      <td>0.693147</td>\n",
       "      <td>2.0</td>\n",
       "      <td>1.0</td>\n",
       "      <td>1.0</td>\n",
       "      <td>4.158883</td>\n",
       "      <td>4.219508</td>\n",
       "      <td>53666.0</td>\n",
       "      <td>19.301890</td>\n",
       "      <td>-99.688015</td>\n",
       "      <td>2012.0</td>\n",
       "      <td>...</td>\n",
       "      <td>0.033601</td>\n",
       "      <td>1.609438</td>\n",
       "      <td>0.426561</td>\n",
       "      <td>0.475439</td>\n",
       "      <td>0.420146</td>\n",
       "      <td>0.0</td>\n",
       "      <td>0.0</td>\n",
       "      <td>0.0</td>\n",
       "      <td>1.0</td>\n",
       "      <td>1.0</td>\n",
       "    </tr>\n",
       "    <tr>\n",
       "      <th>4</th>\n",
       "      <td>2.397895</td>\n",
       "      <td>2.0</td>\n",
       "      <td>1.0</td>\n",
       "      <td>1.0</td>\n",
       "      <td>4.564348</td>\n",
       "      <td>4.564348</td>\n",
       "      <td>47835.0</td>\n",
       "      <td>20.696818</td>\n",
       "      <td>-99.509221</td>\n",
       "      <td>2016.0</td>\n",
       "      <td>...</td>\n",
       "      <td>0.000000</td>\n",
       "      <td>0.000000</td>\n",
       "      <td>0.478679</td>\n",
       "      <td>0.390827</td>\n",
       "      <td>0.407525</td>\n",
       "      <td>0.0</td>\n",
       "      <td>0.0</td>\n",
       "      <td>0.0</td>\n",
       "      <td>0.0</td>\n",
       "      <td>0.0</td>\n",
       "    </tr>\n",
       "  </tbody>\n",
       "</table>\n",
       "<p>5 rows × 24 columns</p>\n",
       "</div>"
      ],
      "text/plain": [
       "   antiguedad  habitaciones  garages  banos  metroscubiertos  metrostotales  \\\n",
       "0    2.210044           2.0      1.0    2.0         4.394449       4.394449   \n",
       "1    2.397895           3.0      2.0    2.0         5.594711       5.198497   \n",
       "2    1.791759           3.0      2.0    2.0         4.976734       5.117994   \n",
       "3    0.693147           2.0      1.0    1.0         4.158883       4.219508   \n",
       "4    2.397895           2.0      1.0    1.0         4.564348       4.564348   \n",
       "\n",
       "    idzona        lat        lng    anio  ...  peso_IDF_titulo  \\\n",
       "0  23533.0  20.696818 -99.509221  2015.0  ...         0.000000   \n",
       "1  24514.0  19.310205 -99.227655  2013.0  ...         0.165371   \n",
       "2  48551.0  20.696818 -99.509221  2015.0  ...         0.033601   \n",
       "3  53666.0  19.301890 -99.688015  2012.0  ...         0.033601   \n",
       "4  47835.0  20.696818 -99.509221  2016.0  ...         0.000000   \n",
       "\n",
       "   metrosdescubiertos  tipodepropiedad_cb  caracteristicas_cb  provincia_cb  \\\n",
       "0            0.000000            0.478679            0.390827      0.413880   \n",
       "1            0.000000            0.386072            0.475439      0.413880   \n",
       "2            3.135494            0.426561            0.390827      0.407525   \n",
       "3            1.609438            0.426561            0.475439      0.420146   \n",
       "4            0.000000            0.478679            0.390827      0.407525   \n",
       "\n",
       "   piscina  gimnasio  usosmultiples  escuelascercanas  \\\n",
       "0      0.0       0.0            0.0               0.0   \n",
       "1      0.0       0.0            0.0               1.0   \n",
       "2      0.0       0.0            0.0               0.0   \n",
       "3      0.0       0.0            0.0               1.0   \n",
       "4      0.0       0.0            0.0               0.0   \n",
       "\n",
       "   centroscomercialescercanos  \n",
       "0                         0.0  \n",
       "1                         1.0  \n",
       "2                         0.0  \n",
       "3                         1.0  \n",
       "4                         0.0  \n",
       "\n",
       "[5 rows x 24 columns]"
      ]
     },
     "execution_count": 6,
     "metadata": {},
     "output_type": "execute_result"
    }
   ],
   "source": [
    "X.head()"
   ]
  },
  {
   "cell_type": "code",
   "execution_count": 7,
   "metadata": {},
   "outputs": [
    {
     "name": "stderr",
     "output_type": "stream",
     "text": [
      "/home/alfonso/anaconda3/lib/python3.7/site-packages/sklearn/ensemble/forest.py:245: FutureWarning: The default value of n_estimators will change from 10 in version 0.20 to 100 in 0.22.\n",
      "  \"10 in version 0.20 to 100 in 0.22.\", FutureWarning)\n"
     ]
    },
    {
     "data": {
      "text/plain": [
       "RandomForestRegressor(bootstrap=True, criterion='mse', max_depth=None,\n",
       "                      max_features='auto', max_leaf_nodes=None,\n",
       "                      min_impurity_decrease=0.0, min_impurity_split=None,\n",
       "                      min_samples_leaf=1, min_samples_split=2,\n",
       "                      min_weight_fraction_leaf=0.0, n_estimators=10,\n",
       "                      n_jobs=None, oob_score=False, random_state=1, verbose=0,\n",
       "                      warm_start=False)"
      ]
     },
     "execution_count": 7,
     "metadata": {},
     "output_type": "execute_result"
    }
   ],
   "source": [
    "forest_model.fit(X, y)"
   ]
  },
  {
   "cell_type": "code",
   "execution_count": 8,
   "metadata": {},
   "outputs": [],
   "source": [
    "importancias = forest_model.feature_importances_\n",
    "columnas = X.columns"
   ]
  },
  {
   "cell_type": "code",
   "execution_count": 9,
   "metadata": {},
   "outputs": [],
   "source": [
    "df_importancias = pd.DataFrame({'features': columnas, 'peso': importancias})"
   ]
  },
  {
   "cell_type": "code",
   "execution_count": 10,
   "metadata": {},
   "outputs": [
    {
     "data": {
      "text/html": [
       "<div>\n",
       "<style scoped>\n",
       "    .dataframe tbody tr th:only-of-type {\n",
       "        vertical-align: middle;\n",
       "    }\n",
       "\n",
       "    .dataframe tbody tr th {\n",
       "        vertical-align: top;\n",
       "    }\n",
       "\n",
       "    .dataframe thead th {\n",
       "        text-align: right;\n",
       "    }\n",
       "</style>\n",
       "<table border=\"1\" class=\"dataframe\">\n",
       "  <thead>\n",
       "    <tr style=\"text-align: right;\">\n",
       "      <th></th>\n",
       "      <th>features</th>\n",
       "      <th>peso</th>\n",
       "    </tr>\n",
       "  </thead>\n",
       "  <tbody>\n",
       "    <tr>\n",
       "      <th>0</th>\n",
       "      <td>antiguedad</td>\n",
       "      <td>0.024558</td>\n",
       "    </tr>\n",
       "    <tr>\n",
       "      <th>1</th>\n",
       "      <td>habitaciones</td>\n",
       "      <td>0.021257</td>\n",
       "    </tr>\n",
       "    <tr>\n",
       "      <th>2</th>\n",
       "      <td>garages</td>\n",
       "      <td>0.017791</td>\n",
       "    </tr>\n",
       "    <tr>\n",
       "      <th>3</th>\n",
       "      <td>banos</td>\n",
       "      <td>0.046896</td>\n",
       "    </tr>\n",
       "    <tr>\n",
       "      <th>4</th>\n",
       "      <td>metroscubiertos</td>\n",
       "      <td>0.368228</td>\n",
       "    </tr>\n",
       "    <tr>\n",
       "      <th>5</th>\n",
       "      <td>metrostotales</td>\n",
       "      <td>0.062821</td>\n",
       "    </tr>\n",
       "    <tr>\n",
       "      <th>6</th>\n",
       "      <td>idzona</td>\n",
       "      <td>0.071894</td>\n",
       "    </tr>\n",
       "    <tr>\n",
       "      <th>7</th>\n",
       "      <td>lat</td>\n",
       "      <td>0.019661</td>\n",
       "    </tr>\n",
       "    <tr>\n",
       "      <th>8</th>\n",
       "      <td>lng</td>\n",
       "      <td>0.023043</td>\n",
       "    </tr>\n",
       "    <tr>\n",
       "      <th>9</th>\n",
       "      <td>anio</td>\n",
       "      <td>0.025418</td>\n",
       "    </tr>\n",
       "    <tr>\n",
       "      <th>10</th>\n",
       "      <td>mes</td>\n",
       "      <td>0.016021</td>\n",
       "    </tr>\n",
       "    <tr>\n",
       "      <th>11</th>\n",
       "      <td>dia</td>\n",
       "      <td>0.019422</td>\n",
       "    </tr>\n",
       "    <tr>\n",
       "      <th>12</th>\n",
       "      <td>datoBienCargado</td>\n",
       "      <td>0.006765</td>\n",
       "    </tr>\n",
       "    <tr>\n",
       "      <th>13</th>\n",
       "      <td>peso_IDF_descripcion</td>\n",
       "      <td>0.031790</td>\n",
       "    </tr>\n",
       "    <tr>\n",
       "      <th>14</th>\n",
       "      <td>peso_IDF_titulo</td>\n",
       "      <td>0.008566</td>\n",
       "    </tr>\n",
       "    <tr>\n",
       "      <th>15</th>\n",
       "      <td>metrosdescubiertos</td>\n",
       "      <td>0.013781</td>\n",
       "    </tr>\n",
       "    <tr>\n",
       "      <th>16</th>\n",
       "      <td>tipodepropiedad_cb</td>\n",
       "      <td>0.113499</td>\n",
       "    </tr>\n",
       "    <tr>\n",
       "      <th>17</th>\n",
       "      <td>caracteristicas_cb</td>\n",
       "      <td>0.006274</td>\n",
       "    </tr>\n",
       "    <tr>\n",
       "      <th>18</th>\n",
       "      <td>provincia_cb</td>\n",
       "      <td>0.093743</td>\n",
       "    </tr>\n",
       "    <tr>\n",
       "      <th>19</th>\n",
       "      <td>piscina</td>\n",
       "      <td>0.002073</td>\n",
       "    </tr>\n",
       "    <tr>\n",
       "      <th>20</th>\n",
       "      <td>gimnasio</td>\n",
       "      <td>0.002263</td>\n",
       "    </tr>\n",
       "    <tr>\n",
       "      <th>21</th>\n",
       "      <td>usosmultiples</td>\n",
       "      <td>0.000907</td>\n",
       "    </tr>\n",
       "    <tr>\n",
       "      <th>22</th>\n",
       "      <td>escuelascercanas</td>\n",
       "      <td>0.001838</td>\n",
       "    </tr>\n",
       "    <tr>\n",
       "      <th>23</th>\n",
       "      <td>centroscomercialescercanos</td>\n",
       "      <td>0.001491</td>\n",
       "    </tr>\n",
       "  </tbody>\n",
       "</table>\n",
       "</div>"
      ],
      "text/plain": [
       "                      features      peso\n",
       "0                   antiguedad  0.024558\n",
       "1                 habitaciones  0.021257\n",
       "2                      garages  0.017791\n",
       "3                        banos  0.046896\n",
       "4              metroscubiertos  0.368228\n",
       "5                metrostotales  0.062821\n",
       "6                       idzona  0.071894\n",
       "7                          lat  0.019661\n",
       "8                          lng  0.023043\n",
       "9                         anio  0.025418\n",
       "10                         mes  0.016021\n",
       "11                         dia  0.019422\n",
       "12             datoBienCargado  0.006765\n",
       "13        peso_IDF_descripcion  0.031790\n",
       "14             peso_IDF_titulo  0.008566\n",
       "15          metrosdescubiertos  0.013781\n",
       "16          tipodepropiedad_cb  0.113499\n",
       "17          caracteristicas_cb  0.006274\n",
       "18                provincia_cb  0.093743\n",
       "19                     piscina  0.002073\n",
       "20                    gimnasio  0.002263\n",
       "21               usosmultiples  0.000907\n",
       "22            escuelascercanas  0.001838\n",
       "23  centroscomercialescercanos  0.001491"
      ]
     },
     "execution_count": 10,
     "metadata": {},
     "output_type": "execute_result"
    }
   ],
   "source": [
    "# la imporcacia de cada feature es la siguiente:\n",
    "df_importancias"
   ]
  },
  {
   "cell_type": "code",
   "execution_count": 18,
   "metadata": {
    "scrolled": true
   },
   "outputs": [
    {
     "data": {
      "text/plain": [
       "Text(0.5, 1.0, '10 features mas importantes y sus pesos')"
      ]
     },
     "execution_count": 18,
     "metadata": {},
     "output_type": "execute_result"
    },
    {
     "data": {
      "image/png": "[encoded data removed]",
      "text/plain": [
       "<Figure size 432x288 with 1 Axes>"
      ]
     },
     "metadata": {
      "needs_background": "light"
     },
     "output_type": "display_data"
    }
   ],
   "source": [
    "# los 10 features mas importantes:\n",
    "ax = df_importancias.nlargest(10,'peso').plot.bar(x='features',y='peso', rot=90)\n",
    "plt.title('10 features mas importantes y sus pesos')"
   ]
  },
  {
   "cell_type": "code",
   "execution_count": 19,
   "metadata": {},
   "outputs": [
    {
     "data": {
      "text/plain": [
       "Text(0.5, 1.0, '10 features menos importantes y sus pesos')"
      ]
     },
     "execution_count": 19,
     "metadata": {},
     "output_type": "execute_result"
    },
    {
     "data": {
      "image/png": "[encoded data removed]",
      "text/plain": [
       "<Figure size 432x288 with 1 Axes>"
      ]
     },
     "metadata": {
      "needs_background": "light"
     },
     "output_type": "display_data"
    }
   ],
   "source": [
    "# los 10 features menos importantes:\n",
    "ax = df_importancias.nsmallest(10,'peso').plot.bar(x='features',y='peso', rot=90)\n",
    "plt.title('10 features menos importantes y sus pesos')"
   ]
  },
  {
   "cell_type": "code",
   "execution_count": null,
   "metadata": {},
   "outputs": [],
   "source": []
  }
 ],
 "metadata": {
  "kernelspec": {
   "display_name": "Python 3",
   "language": "python",
   "name": "python3"
  },
  "language_info": {
   "codemirror_mode": {
    "name": "ipython",
    "version": 3
   },
   "file_extension": ".py",
   "mimetype": "text/x-python",
   "name": "python",
   "nbconvert_exporter": "python",
   "pygments_lexer": "ipython3",
   "version": "3.7.3"
  }
 },
 "nbformat": 4,
 "nbformat_minor": 2
}
